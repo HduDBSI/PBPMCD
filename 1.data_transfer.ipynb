{
 "cells": [
  {
   "cell_type": "code",
   "execution_count": 10,
   "metadata": {},
   "outputs": [],
   "source": [
    "import os\n",
    "from lxml import etree\n",
    "import csv\n",
    "import time\n"
   ]
  },
  {
   "cell_type": "code",
   "execution_count": 2,
   "metadata": {},
   "outputs": [],
   "source": [
    "a=100"
   ]
  },
  {
   "cell_type": "code",
   "execution_count": 3,
   "metadata": {},
   "outputs": [],
   "source": [
    "# path=\"datasets/cm2.5k.mxml\"\n",
    "filename=\"PrepaidTravelCost.xes\"\n",
    "dataset=filename[:filename.rindex(\".\")]\n",
    "path=\"datasets/\"+filename"
   ]
  },
  {
   "cell_type": "code",
   "execution_count": 4,
   "metadata": {},
   "outputs": [],
   "source": [
    "def Parse(in_path):\n",
    "    pathExtension = os.path.splitext(in_path)[1]\n",
    "    traceControlFlow = []\n",
    "    if pathExtension == \".MXML\" or pathExtension == \".mxml\":\n",
    "        traceControlFlow,events = parseMXML(in_path)\n",
    "    elif pathExtension == \".XES\" or pathExtension == \".xes\":\n",
    "        doc = etree.parse(in_path)\n",
    "        root = doc.getroot()\n",
    "        if len(root.nsmap) < 1:\n",
    "            traceControlFlow,events = parseXESNoXmlns(in_path)\n",
    "        else:\n",
    "            prefix = root.nsmap[None]\n",
    "            traceControlFlow,events = parseXES(in_path, prefix)\n",
    "    else:\n",
    "        print(\"Error: the file must be .XES or .MXML! Please upload again.\")\n",
    "    return traceControlFlow,events\n",
    "\n",
    "def parseMXML(in_path):\n",
    "    traces = []\n",
    "    events = set()\n",
    "    tree = etree.parse(in_path)\n",
    "    root = tree.getroot()\n",
    "    process = root.xpath('./Process')[0]\n",
    "    allTraces = process.xpath('./ProcessInstance')\n",
    "    for case in allTraces:\n",
    "        trace = []\n",
    "        for subNode in case.iterfind('AuditTrailEntry'):\n",
    "            dictEvent = parseMxmlEvent(subNode)\n",
    "            dictEvent[\"id\"]=case.attrib[\"id\"]\n",
    "            trace.append(dictEvent)\n",
    "            events.add(dictEvent[\"name\"])\n",
    "        traces.append(trace)\n",
    "    traceControlFlow = onlyControlFlow(traces)\n",
    "    return traces,events\n",
    "\n",
    "def parseXESNoXmlns(in_path):\n",
    "    traces = []\n",
    "    events = set()\n",
    "    doc = etree.parse(in_path)\n",
    "    allTraces = doc.xpath('trace')\n",
    "    for case in allTraces:\n",
    "        trace = []\n",
    "        eventIntrace = case.xpath('./event')\n",
    "        for subNode in eventIntrace:\n",
    "            dictEvent = parseXesEventNoXmlns(subNode)\n",
    "            trace.append(dictEvent)\n",
    "            events.add(dictEvent[\"name\"])\n",
    "        traces.append(trace)\n",
    "    # traceControlFlow = onlyControlFlow(traces)\n",
    "    return traces,events\n",
    "def parseXES(in_path, prefix):\n",
    "    traces = []\n",
    "    events = set()\n",
    "    doc = etree.parse(in_path)\n",
    "    allTraces = doc.xpath('//pre:trace', namespaces={\"pre\": prefix})\n",
    "    for case in allTraces:\n",
    "        trace = []\n",
    "        eventIntrace = case.xpath('./pre:event', namespaces={\"pre\": prefix})\n",
    "        for subNode in eventIntrace:\n",
    "            dictEvent = parseXesEvent(subNode, prefix)\n",
    "            trace.append(dictEvent)\n",
    "            events.add(dictEvent[\"name\"])\n",
    "        traces.append(trace)\n",
    "    # traceControlFlow = onlyControlFlow(traces)\n",
    "    return traces,events\n",
    "\n",
    "def parseMxmlEvent(subNode):\n",
    "    dictEvent = dict()\n",
    "    for item in subNode:\n",
    "        if item.tag == 'WorkflowModelElement':\n",
    "            dictEvent['name'] = item.text.strip()\n",
    "        elif item.tag == 'EventType':\n",
    "            dictEvent['type'] = item.text.strip()\n",
    "        elif item.tag == 'Timestamp' or item.tag == 'timestamp':\n",
    "            dictEvent['timestamp'] = item.text.strip()\n",
    "    return dictEvent\n",
    "\n",
    "def parseXesEventNoXmlns(subNode):\n",
    "    dictEvent = dict()\n",
    "    stringNode = subNode.xpath('./string')\n",
    "    dateNode = subNode.xpath('./date')\n",
    "\n",
    "    for item in stringNode:\n",
    "        if item.get('key') == 'concept:name':\n",
    "            dictEvent['name'] = item.get('value').strip()\n",
    "        elif item.get('key') == 'lifecycle:transition':\n",
    "            dictEvent['type'] = item.get('value').strip()\n",
    "    for item in dateNode:\n",
    "        if item.get('key') == 'time:timestamp':\n",
    "            dictEvent['timestamp'] = item.get('value').strip()\n",
    "    return dictEvent\n",
    "def parseXesEvent(subNode, prefix):\n",
    "    dictEvent = dict()\n",
    "    if prefix == None:\n",
    "        stringNode = subNode.xpath('./pre:string')\n",
    "        dateNode = subNode.xpath('./pre:date')\n",
    "    else:\n",
    "        stringNode = subNode.xpath('./pre:string', namespaces={\"pre\": prefix})\n",
    "        dateNode = subNode.xpath('./pre:date', namespaces={\"pre\": prefix})\n",
    "\n",
    "    for item in stringNode:\n",
    "        if item.get('key') == 'concept:name':\n",
    "            dictEvent['name'] = item.get('value').strip()\n",
    "        elif item.get('key') == 'lifecycle:transition':\n",
    "            dictEvent['type'] = item.get('value').strip()\n",
    "    for item in dateNode:\n",
    "        if item.get('key') == 'time:timestamp':\n",
    "            dictEvent['timestamp'] = item.get('value').strip()\n",
    "    return dictEvent\n",
    "def onlyControlFlow(traces):\n",
    "    listControl = []\n",
    "    for t in traces:\n",
    "        tempTrace = []\n",
    "        for t_event in t:\n",
    "            if t_event['type'] == \"complete\" or t_event['type'] == \"COMPLETE\":\n",
    "                tempTrace.append(t_event['name'])\n",
    "            else:\n",
    "                pass\n",
    "        listControl.append(tempTrace)\n",
    "    return listControl"
   ]
  },
  {
   "cell_type": "code",
   "execution_count": 5,
   "metadata": {},
   "outputs": [],
   "source": [
    "traces,events=Parse(path)"
   ]
  },
  {
   "cell_type": "code",
   "execution_count": 8,
   "metadata": {},
   "outputs": [
    {
     "data": {
      "text/plain": [
       "29"
      ]
     },
     "execution_count": 8,
     "metadata": {},
     "output_type": "execute_result"
    }
   ],
   "source": [
    "len(events)"
   ]
  },
  {
   "cell_type": "code",
   "execution_count": 11,
   "metadata": {},
   "outputs": [
    {
     "data": {
      "text/plain": [
       "'2017-01-09T14:48:43.000+01:00'"
      ]
     },
     "execution_count": 11,
     "metadata": {},
     "output_type": "execute_result"
    }
   ],
   "source": [
    "traces[0][0]['timestamp']"
   ]
  },
  {
   "cell_type": "code",
   "execution_count": null,
   "metadata": {},
   "outputs": [],
   "source": [
    "len(traces)"
   ]
  },
  {
   "cell_type": "code",
   "execution_count": null,
   "metadata": {},
   "outputs": [],
   "source": [
    "traces[0]"
   ]
  },
  {
   "cell_type": "code",
   "execution_count": 15,
   "metadata": {},
   "outputs": [],
   "source": [
    "def time_format(ttime):\n",
    "        ttime=\" \".join(ttime.split(\"T\"))\n",
    "        ttime=ttime.split(\".\")[0]\n",
    "        try:\n",
    "            date_format_str = '%Y-%m-%d %H:%M:%S'\n",
    "            conversion = time.strptime(ttime, date_format_str)\n",
    "        except:\n",
    "            date_format_str = '%Y/%m/%d %H:%M:%S'\n",
    "            conversion = time.strptime(ttime, date_format_str)\n",
    "        return time.mktime(conversion)"
   ]
  },
  {
   "cell_type": "code",
   "execution_count": 16,
   "metadata": {},
   "outputs": [],
   "source": [
    "def analyze(traces,events):\n",
    "    num_activity=len(events)\n",
    "    num_trace=len(traces)\n",
    "    num_event=0\n",
    "    average_trace_length=0\n",
    "    max_trace_length=0\n",
    "    max_event_duration=0\n",
    "    average_event_duration=0\n",
    "    max_trace_duration=0\n",
    "    average_trace_duration=0\n",
    "    event_dif_list=[]\n",
    "    trace_dif_list=[]\n",
    "    for trace in traces:\n",
    "        start=0\n",
    "        pre=0\n",
    "        end=0\n",
    "        num_event+=len(trace)\n",
    "        max_trace_length=max(max_trace_length,len(trace))\n",
    "        for event in trace:\n",
    "            if start==0:\n",
    "                start=time_format(event[\"timestamp\"])\n",
    "                pre=start\n",
    "            else:\n",
    "                cur=time_format(event[\"timestamp\"])\n",
    "                event_dif_list.append(cur-pre)\n",
    "                pre=cur\n",
    "        trace_dif_list.append(cur-start)\n",
    "    max_trace_duration=max(trace_dif_list)\n",
    "    max_event_duration=max(event_dif_list)\n",
    "    average_event_duration=sum(event_dif_list)/len(event_dif_list)\n",
    "    average_trace_duration=sum(trace_dif_list)/len(trace_dif_list)\n",
    "    average_trace_length=num_event/len(traces)\n",
    "    print(\"活动数量：\",num_activity)\n",
    "    print(\"事件数量：\",num_event)\n",
    "    print(\"轨迹数量：\",num_trace)\n",
    "    print(\"平均轨迹长度：\",average_trace_length)\n",
    "    print(\"最大轨迹长度：\",max_trace_length)\n",
    "    print(\"最大活动持续时间：\",max_event_duration)\n",
    "    print(\"平均活动持续时间：\",average_event_duration)\n",
    "    print(\"最大轨迹持续时间：\",max_trace_duration)\n",
    "    print(\"平均轨迹持续时间：\",average_trace_duration)\n",
    "            "
   ]
  },
  {
   "cell_type": "code",
   "execution_count": 17,
   "metadata": {},
   "outputs": [
    {
     "name": "stdout",
     "output_type": "stream",
     "text": [
      "活动数量： 29\n",
      "事件数量： 18246\n",
      "轨迹数量： 2099\n",
      "平均轨迹长度： 8.692710814673655\n",
      "最大轨迹长度： 21\n",
      "最大活动持续时间： 27376881.0\n",
      "平均活动持续时间： 413261.8457298569\n",
      "最大轨迹持续时间： 28077926.0\n",
      "平均轨迹持续时间： 3189328.243925679\n"
     ]
    }
   ],
   "source": [
    "analyze(traces,events)"
   ]
  },
  {
   "cell_type": "code",
   "execution_count": null,
   "metadata": {},
   "outputs": [],
   "source": [
    "event_list=list(events)\n",
    "event_list.sort()\n",
    "events_index=[i for i in range(len(event_list))]\n",
    "event_dict={event_list[i]:i for i in range(len(event_list))}\n",
    "if not os.path.exists(\"datasets/\"+dataset):\n",
    "    print(\"sure does\")\n",
    "    os.mkdir(\"datasets/\"+dataset)\n",
    "with open(\"datasets/\"+dataset+\"/\"+dataset+\".csv\",\"w\",encoding='utf8',newline='') as f:\n",
    "    writer=csv.DictWriter(f,fieldnames=['id','name','type',\"timestamp\"])\n",
    "    writer.writeheader()\n",
    "    for i in range(len(traces)):\n",
    "        for j in range(len(traces[i])):\n",
    "            if traces[i][j][\"type\"]==\"assign\":\n",
    "                continue\n",
    "            traces[i][j][\"id\"]=i\n",
    "            traces[i][j][\"name\"]=event_dict[traces[i][j][\"name\"]]\n",
    "            writer.writerow(traces[i][j])\n"
   ]
  },
  {
   "cell_type": "code",
   "execution_count": null,
   "metadata": {},
   "outputs": [],
   "source": [
    "event_dict"
   ]
  }
 ],
 "metadata": {
  "kernelspec": {
   "display_name": "Python 3.9.13 ('py3.9')",
   "language": "python",
   "name": "python3"
  },
  "language_info": {
   "codemirror_mode": {
    "name": "ipython",
    "version": 3
   },
   "file_extension": ".py",
   "mimetype": "text/x-python",
   "name": "python",
   "nbconvert_exporter": "python",
   "pygments_lexer": "ipython3",
   "version": "3.9.13"
  },
  "orig_nbformat": 4,
  "vscode": {
   "interpreter": {
    "hash": "2e67272651055d1832734db27dbe5c78ae7e6195044c32c87375667fa374755b"
   }
  }
 },
 "nbformat": 4,
 "nbformat_minor": 2
}
