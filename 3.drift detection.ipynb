{
 "cells": [
  {
   "cell_type": "code",
   "execution_count": 8,
   "metadata": {},
   "outputs": [],
   "source": [
    "import pandas as pd\n",
    "import numpy as np\n",
    "import csv\n",
    "import os\n",
    "import torch\n",
    "import pickle\n",
    "from torch.utils.data import Dataset,DataLoader,TensorDataset\n",
    "from tqdm import tqdm\n",
    "from torch import nn, optim\n",
    "from torch.optim.lr_scheduler import MultiStepLR\n",
    "import torch.nn as nn\n",
    "import math\n",
    "import random\n",
    "import torch\n",
    "from torch_geometric.data import Data\n",
    "from models.baseLSTM import BaseLSTM\n",
    "from models.TCN import TCN\n",
    "from models.baseGRU import BaseGRU\n",
    "from models.baseRNN import BaseRNN\n",
    "from tqdm import tqdm\n",
    "from torch import nn, optim\n",
    "import numpy as np"
   ]
  },
  {
   "cell_type": "code",
   "execution_count": 9,
   "metadata": {},
   "outputs": [
    {
     "data": {
      "text/plain": [
       "0"
      ]
     },
     "execution_count": 9,
     "metadata": {},
     "output_type": "execute_result"
    }
   ],
   "source": [
    "torch.cuda.device_count()\n",
    "m_gpu=0\n",
    "os.environ['CUDA_VISIBLE_DEVICES'] = '%d' % m_gpu\n",
    "torch.cuda.set_device(m_gpu)\n",
    "torch.cuda.is_available()\n",
    "torch.cuda.current_device()"
   ]
  },
  {
   "cell_type": "code",
   "execution_count": 10,
   "metadata": {},
   "outputs": [],
   "source": [
    "seed=3447\n",
    "torch.manual_seed(seed)\n",
    "torch.cuda.manual_seed(seed) "
   ]
  },
  {
   "cell_type": "code",
   "execution_count": 11,
   "metadata": {},
   "outputs": [],
   "source": [
    "# path=\"datasets/cm2.5k.mxml\"\n",
    "# dataset=\"PrepaidTravelCost\"\n",
    "dataset=\"cm10k\"\n",
    "input_file=\"datasets/\"+dataset+\"/\"+dataset+\".csv\"\n",
    "window_size=100"
   ]
  },
  {
   "cell_type": "code",
   "execution_count": 12,
   "metadata": {},
   "outputs": [],
   "source": [
    "data=pd.read_csv(input_file)\n",
    "try:\n",
    "    data.columns = [\"CaseID\", \"Activity\", \"TYPE\", \"Timestamp\",\"amount\"]\n",
    "except:\n",
    "    data.columns = [\"CaseID\",\"Activity\",\"Type\",\"Timestamp\"]\n",
    "data.fillna(1,inplace=True)\n",
    "listofactivity=data[\"Activity\"].unique().tolist()\n",
    "cont_trace = data['CaseID'].value_counts(dropna=False)\n",
    "max_trace=max(cont_trace)\n",
    "# group by activity, resource and timestamp by caseid\n",
    "act = data.groupby('CaseID', sort=False).agg({'Activity': lambda x: list(x)})\n",
    "temp = data.groupby('CaseID', sort=False).agg({'Timestamp': lambda x: list(x)})"
   ]
  },
  {
   "cell_type": "code",
   "execution_count": 13,
   "metadata": {},
   "outputs": [
    {
     "data": {
      "text/plain": [
       "[10, 5, 0, 6, 3, 2, 14, 11, 12, 7, 17, 18, 4, 9, 15, 13, 16, 1, 8]"
      ]
     },
     "execution_count": 13,
     "metadata": {},
     "output_type": "execute_result"
    }
   ],
   "source": [
    "listofactivity"
   ]
  },
  {
   "cell_type": "code",
   "execution_count": 14,
   "metadata": {},
   "outputs": [],
   "source": [
    "num_class=max(listofactivity)+1\n",
    "act_embsize=32\n",
    "hidden_size=64\n",
    "batch_size=64\n",
    "# model=TCN(num_class,act_embsize,hidden_size,3,3).cuda()\n",
    "lr=1e-3\n",
    "my_optim=\"Adam\"\n",
    "criterion = nn.CrossEntropyLoss()\n",
    "# optimizer = getattr(optim, my_optim)(model.parameters(), lr=lr,weight_decay=0.001)\n",
    "# model=BaseLSTM(num_class,act_embsize,hidden_size).cuda()\n",
    "model=BaseRNN(num_class,act_embsize,hidden_size).cuda()\n",
    "optimizer = getattr(optim, my_optim)(model.parameters(), lr=lr)\n",
    "ExpLR = torch.optim.lr_scheduler.ExponentialLR(optimizer, gamma=0.98)\n",
    "bestloss=1e6"
   ]
  },
  {
   "cell_type": "code",
   "execution_count": 15,
   "metadata": {},
   "outputs": [],
   "source": [
    "def load_data(dir_path):\n",
    "    if os.path.exists(dir_path):\n",
    "        data=pickle.load(open(dir_path+\"/data.pkl\",\"rb\"))\n",
    "        label=pickle.load(open(dir_path+\"/label.pkl\",\"rb\"))\n",
    "        length=pickle.load(open(dir_path+\"/length.pkl\",\"rb\"))\n",
    "        return data,label,length"
   ]
  },
  {
   "cell_type": "code",
   "execution_count": 16,
   "metadata": {},
   "outputs": [],
   "source": [
    "def tensor_transfer(data,label,length):\n",
    "    data_tensor=torch.tensor(np.array(data),dtype=torch.float32).cuda()\n",
    "    label_tensor=torch.tensor(np.array(label),dtype=torch.float32).cuda()\n",
    "    length_tensor=torch.tensor(np.array(length),dtype=torch.long).cuda()\n",
    "    return data_tensor,label_tensor,length_tensor"
   ]
  },
  {
   "cell_type": "code",
   "execution_count": 17,
   "metadata": {},
   "outputs": [],
   "source": [
    "def to_dataloader(data,label,length):\n",
    "    train_dataset=TensorDataset(data,label[:,0],length)\n",
    "    train_dataloader=DataLoader(dataset=train_dataset,\n",
    "                                batch_size=batch_size,\n",
    "                                shuffle=True\n",
    "                                )\n",
    "    return train_dataloader"
   ]
  },
  {
   "cell_type": "code",
   "execution_count": 18,
   "metadata": {},
   "outputs": [],
   "source": [
    "def count_file(path):\n",
    "    dir_count=0\n",
    "    for root, dirs, filenames in os.walk(path):\n",
    "        for dir in dirs:\n",
    "            dir_count += 1\n",
    "    return dir_count"
   ]
  },
  {
   "cell_type": "code",
   "execution_count": 19,
   "metadata": {},
   "outputs": [],
   "source": [
    "filenums=count_file(\"datasets/\"+dataset+\"/\"+dataset+\"_\"+str(window_size))\n",
    "\n",
    "sub_log_dir=\"datasets/\"+dataset+\"/\"+dataset+\"_\"+str(window_size)"
   ]
  },
  {
   "cell_type": "code",
   "execution_count": 20,
   "metadata": {},
   "outputs": [],
   "source": [
    "def train(model,optimizer,data_loader,epoch):\n",
    "    # model,criterion=model_init()\n",
    "    model.train()\n",
    "    for i in (range(epoch)):\n",
    "        total_loss=0\n",
    "        for j,(train_data,label,length) in enumerate(data_loader):\n",
    "            optimizer.zero_grad()\n",
    "            output=model(train_data[:,:,1:])\n",
    "            loss1 = criterion(output, label.long())\n",
    "            # softmaxoutput=nn.functional.softmax(output,dim=1)\n",
    "            # predicted=torch.argmax(softmaxoutput,dim=1)\n",
    "            # groundTruth=label\n",
    "            loss1.backward()\n",
    "            total_loss+=loss1.item()\n",
    "            optimizer.step()\n",
    "        # print(\"total loss \",total_loss)\n"
   ]
  },
  {
   "cell_type": "code",
   "execution_count": 21,
   "metadata": {},
   "outputs": [],
   "source": [
    "def pre_train(percent):\n",
    "    pre_train_data_num=math.ceil(filenums*percent)\n",
    "    data_list=[]\n",
    "    label_list=[]\n",
    "    length_list=[]\n",
    "    for i in range(pre_train_data_num):\n",
    "        sub_log_path=sub_log_dir+\"/\"+\"sub_logs_\"+str(i)\n",
    "        data,label,length=load_data(sub_log_path)\n",
    "        data_list=data_list+data\n",
    "        label_list=label_list+label\n",
    "        length_list=length_list+length\n",
    "    tensor_data,tensor_label,tensor_length=tensor_transfer(data_list,label_list,length_list)\n",
    "    data_loader=to_dataloader(tensor_data,tensor_label,tensor_length)\n",
    "\n",
    "    # predicted=np.array([])\n",
    "    # truth=np.array([])\n",
    "    # length_arr=np.array([])\n",
    "\n",
    "    train(model,optimizer,data_loader,20)"
   ]
  },
  {
   "cell_type": "code",
   "execution_count": 22,
   "metadata": {},
   "outputs": [],
   "source": [
    "percent=0.02"
   ]
  },
  {
   "cell_type": "code",
   "execution_count": 23,
   "metadata": {},
   "outputs": [],
   "source": [
    "# pre_train(percent)"
   ]
  },
  {
   "cell_type": "code",
   "execution_count": 24,
   "metadata": {},
   "outputs": [],
   "source": [
    "from sklearn.metrics import confusion_matrix\n",
    "import pandas as pd\n",
    "import matplotlib.pyplot as plt\n",
    "from sklearn.metrics import accuracy_score, average_precision_score,precision_score,f1_score,recall_score\n",
    "def cal_accuracy_recall_f1score(y_true,y_pred):\n",
    "    recall=recall_score(y_true,y_pred,average=\"weighted\",zero_division=1)\n",
    "    precision=precision_score(y_true,y_pred,average=\"weighted\",zero_division=1)\n",
    "    f1score=f1_score(y_true,y_pred,average=\"weighted\",zero_division=1)\n",
    "    return precision,recall,f1score"
   ]
  },
  {
   "cell_type": "code",
   "execution_count": 25,
   "metadata": {},
   "outputs": [],
   "source": [
    "from matplotlib.figure import Figure\n",
    "import matplotlib.pyplot as plt\n",
    "import numpy as np\n",
    "from matplotlib.font_manager import FontProperties\n",
    "plt.rcParams['font.sans-serif'] = ['Times New Roman']"
   ]
  },
  {
   "cell_type": "code",
   "execution_count": 26,
   "metadata": {},
   "outputs": [],
   "source": [
    "def draw_line_fig(x,y1,y2,y3,title,xlabel):\n",
    "    plt.figure()\n",
    "    # color=\"#D72638\"color=\"#3F88C5\"color=\"#F49D37\"\n",
    "    plt.plot(x,y1,label=\"precision\",color=\"#D72638\",marker=\"X\")\n",
    "    plt.plot(x,y2,label=\"accuracy\",color=\"#3F88C5\",marker=\"D\")\n",
    "    plt.plot(x,y3,label=\"f1score\",color=\"#F49D37\",marker=\"d\")\n",
    "    plt.xlabel(xlabel)\n",
    "    # plt.ylabel('Important var')\n",
    "    plt.title(title)\n",
    "    plt.legend()\n",
    "    # plt.\n",
    "\n",
    "def total_analyze(predicted,truth,length):\n",
    "    precision,accuracy,f1score=cal_accuracy_recall_f1score(predicted,truth)\n",
    "    # print(\"total precision :  \",precision)\n",
    "    # print(\"total accuracy :  \",accuracy)\n",
    "    # print(\"total f1score :  \",f1score)\n",
    "\n",
    "    return precision,accuracy,f1score\n",
    "def class_analyze(predicted,truth,length):\n",
    "    precision_list=[]\n",
    "    accuracy_list=[]\n",
    "    f1score_list=[]\n",
    "    sizes=[]\n",
    "    for i in range(len(listofactivity)):\n",
    "        if((truth==i).size==0):\n",
    "            precision_list.append(0)\n",
    "            accuracy_list.append(0)\n",
    "            f1score_list.append(0)\n",
    "            sizes.append(0)\n",
    "            continue\n",
    "        target_data=predicted[truth==i]\n",
    "        target_label=truth[truth==i]\n",
    "        tprecision,taccuracy,tf1score=cal_accuracy_recall_f1score(target_data,target_label)\n",
    "        precision_list.append(tprecision)\n",
    "        accuracy_list.append(taccuracy)\n",
    "        f1score_list.append(tf1score)\n",
    "        sizes.append(target_data.shape[0])\n",
    "    x=[i for i in range(len(listofactivity))]\n",
    "    # draw_line_fig(x,precision_list,accuracy_list,f1score_list,\"class analyze \",'activity class')\n",
    "    return precision_list,accuracy_list,f1score_list,sizes\n",
    "def length_analyze(predicted,truth,length):\n",
    "    precision_list=[]\n",
    "    accuracy_list=[]\n",
    "    f1score_list=[]\n",
    "    sizes=[]\n",
    "    for i in range(1,max_trace+1):\n",
    "        if((length==i).size==0):\n",
    "            precision_list.append(0)\n",
    "            accuracy_list.append(0)\n",
    "            f1score_list.append(0)\n",
    "            sizes.append(0)\n",
    "            continue\n",
    "        target_data=predicted[length==i]\n",
    "        target_label=truth[length==i]\n",
    "        tprecision,taccuracy,tf1score=cal_accuracy_recall_f1score(target_data,target_label)\n",
    "        precision_list.append(tprecision)\n",
    "        accuracy_list.append(taccuracy)\n",
    "        f1score_list.append(tf1score)\n",
    "        sizes.append(target_data.shape[0])\n",
    "\n",
    "    x=[i for i in range(1,max_trace+1)]\n",
    "    # draw_line_fig(x,precision_list,accuracy_list,f1score_list,\"prefix length analyze \",\"prefix length\")\n",
    "    return precision_list,accuracy_list,f1score_list,sizes\n"
   ]
  },
  {
   "cell_type": "code",
   "execution_count": 27,
   "metadata": {},
   "outputs": [],
   "source": [
    "def cosine_similarity(tvec1, tvec2):\n",
    "    vec1,vec2=np.array(tvec1),np.array(tvec2)\n",
    "    dot_product = np.dot(vec1, vec2)\n",
    "    norm_vec1 = np.linalg.norm(vec1)\n",
    "    norm_vec2 = np.linalg.norm(vec2)\n",
    "    similarity = dot_product / (norm_vec1 * norm_vec2)\n",
    "    return similarity\n",
    "def euclidean_distance(tvec1,tvec2):\n",
    "    vec1,vec2=np.array(tvec1),np.array(tvec2)\n",
    "    return np.linalg.norm(vec1-vec2)"
   ]
  },
  {
   "cell_type": "code",
   "execution_count": 28,
   "metadata": {},
   "outputs": [],
   "source": [
    "def analyze(predicted,truth,length):\n",
    "    # calculate total performance\n",
    "    precision,accuracy,f1score=total_analyze(predicted,truth,length)\n",
    "    # calculate the performance of each class\n",
    "    precision1,accuracy1,f1score1,sizes1=class_analyze(predicted,truth,length)\n",
    "\n",
    "    # calculate the performance of each prefix length\n",
    "    precision2,accuracy2,f1score2,sizes2=length_analyze(predicted,truth,length)\n",
    "    return precision,accuracy,f1score,precision1,accuracy1,f1score1,sizes1,precision2,accuracy2,f1score2,sizes2\n"
   ]
  },
  {
   "cell_type": "code",
   "execution_count": 29,
   "metadata": {},
   "outputs": [],
   "source": [
    "def test(model,test_dataloader):\n",
    "    predicted_list=np.array([])\n",
    "    truth_list=np.array([])\n",
    "    length_list=np.array([])\n",
    "    id_list=np.array([])\n",
    "    model.eval()\n",
    "    for i,(data,label,length) in enumerate(test_dataloader):\n",
    "        output=model(data[:,:,1:])\n",
    "        softmaxoutput=nn.functional.softmax(output,dim=1)\n",
    "        predicted=torch.argmax(softmaxoutput,dim=1)\n",
    "        groundTruth=label\n",
    "        predicted_list=np.append(predicted_list,predicted.cpu().numpy())\n",
    "        truth_list=np.append(truth_list,groundTruth.cpu().numpy())\n",
    "        length_list=np.append(length_list,length.cpu().numpy())\n",
    "        id_list=np.append(id_list,data[:,-1,0].cpu().numpy())\n",
    "    precision,accuracy,f1score,precision1,accuracy1,f1score1,sizes1,precision2,accuracy2,f1score2,sizes2=analyze(predicted_list,truth_list,length_list)\n",
    "    return precision,accuracy,f1score,precision1,accuracy1,f1score1,sizes1,precision2,accuracy2,f1score2,sizes2,predicted_list,truth_list,id_list"
   ]
  },
  {
   "cell_type": "code",
   "execution_count": 30,
   "metadata": {},
   "outputs": [],
   "source": [
    "def incremental_learning(model):\n",
    "    current_class_accuracy_list=[]\n",
    "    precision_list=[]\n",
    "    accuracy_list=[]\n",
    "    f1score_list=[]\n",
    "    class_precision_list=[]\n",
    "    class_accuracy_list=[]\n",
    "    class_f1score_list=[]\n",
    "    win_size=0\n",
    "    max_size=3\n",
    "    pre_train_data_num=math.ceil(filenums*percent)\n",
    "    candidate_points=[]\n",
    "    for i in tqdm(range(filenums)):\n",
    "        sub_log_path=sub_log_dir+\"/\"+\"sub_logs_\"+str(i)\n",
    "        data,label,length=load_data(sub_log_path)\n",
    "        tensor_data,tensor_label,tensor_length=tensor_transfer(data,label,length)\n",
    "        test_data_loader=to_dataloader(tensor_data,tensor_label,tensor_length)\n",
    "        precision,accuracy,f1score,precision1,accuracy1,f1score1,sizes1,precision2,accuracy2,f1score2,sizes2,a,b,c=test(model,test_data_loader)\n",
    "        precision_list.append(precision)\n",
    "        accuracy_list.append(accuracy)\n",
    "        f1score_list.append(f1score)\n",
    "        class_precision_list.append(precision1)\n",
    "        class_accuracy_list.append(accuracy1)\n",
    "        class_f1score_list.append(f1score1)\n",
    "        if i<pre_train_data_num:\n",
    "            current_class_accuracy_list=accuracy1\n",
    "            continue\n",
    "        # if accuracy < 0.85 or euclidean_distance(current_class_accuracy_list,accuracy1)>0.25:\n",
    "        #     win_size+=1\n",
    "        #     if(win_size>=max_size):\n",
    "        #         train(test_data_loader,20)\n",
    "        #         candidate_points.append(i-win_size)\n",
    "        #         precision,accuracy,f1score,precision1,accuracy1,f1score1,sizes1,precision2,accuracy2,f1score2,sizes2=test(test_data_loader)\n",
    "        #         current_class_accuracy_list=accuracy1\n",
    "        #         win_size=0\n",
    "        model=BaseLSTM(num_class,act_embsize,hidden_size).cuda()\n",
    "        optimizer = getattr(optim, my_optim)(model.parameters(), lr=lr)\n",
    "        train(model,optimizer,test_data_loader,20)\n",
    "    return precision_list,accuracy_list,f1score_list,class_precision_list,class_accuracy_list,class_f1score_list,candidate_points\n"
   ]
  },
  {
   "cell_type": "code",
   "execution_count": 31,
   "metadata": {},
   "outputs": [],
   "source": [
    "def accuracy_plot_draw(accuracy_list,precision_list,f1score_list,candidate_points,title):\n",
    "    plt.figure()\n",
    "    x=np.array([i*window_size for i in range(len(accuracy_list))])\n",
    "    # plt.plot(x[0:30],accuracy_list[0:30],color=\"#79ADDC\")\n",
    "    # plt.plot(x[40:50],accuracy_list[40:50],color=\"#79ADDC\")\n",
    "    # plt.plot(x[60:100],accuracy_list[60:100],color=\"#79ADDC\")\n",
    "    # plt.plot(x[30:40],accuracy_list[30:40],color=\"#95DA69\")\n",
    "    # plt.plot(x[50:60],accuracy_list[50:60],color=\"#95DA69\")\n",
    "    # plt.plot(x,accuracy_list,color=\"#FFC09F\",label=\"accuracy\")\n",
    "    plt.plot(x,accuracy_list,label=\"accuracy\")\n",
    "\n",
    "    # plt.plot(x,f1score_list,color=\"#FFEE93\",label=\"f1score\")\n",
    "    xindex=[(len(accuracy_list)/10)*(i)*window_size for i in range(1,10)]\n",
    "    plt.vlines(np.array(candidate_points)*window_size,0,1.1,linestyles=\"dashed\",colors=\"green\",label=\"detect drift point\")\n",
    "    plt.vlines(xindex,0,1,linestyles=\"dashed\",colors=\"red\",label=\"real drift point\")\n",
    "    # plt.vlines([6.3*50],0,1.1,linestyles=\"dashed\",colors=\"red\",label=\"real drift point\")\n",
    "    \n",
    "    # plt.vlines(64,0,1,linestyles=\"dashed\",colors=\"#D72638\")\n",
    "    plt.xlabel(\"trace\")\n",
    "    plt.ylabel(\"Accuracy\")\n",
    "    plt.legend(loc=3)\n",
    "\n",
    "    # plt.ylabel(\"accuracy\")\n",
    "    plt.title(title)\n",
    "    plt.savefig(\"datasets/\"+dataset+\"/\"+dataset+\"_\"+str(window_size)+\"/output.png\")\n",
    "    "
   ]
  },
  {
   "cell_type": "code",
   "execution_count": 32,
   "metadata": {},
   "outputs": [
    {
     "name": "stderr",
     "output_type": "stream",
     "text": [
      "  0%|          | 0/100 [00:03<?, ?it/s]\n"
     ]
    },
    {
     "ename": "RuntimeError",
     "evalue": "input.size(-1) must be equal to input_size. Expected 64, got 63",
     "output_type": "error",
     "traceback": [
      "\u001b[0;31m---------------------------------------------------------------------------\u001b[0m",
      "\u001b[0;31mRuntimeError\u001b[0m                              Traceback (most recent call last)",
      "\u001b[1;32m/home/hsc/python_project/pbpm_based_drift_detection/3.model_train.ipynb Cell 25'\u001b[0m in \u001b[0;36m<cell line: 1>\u001b[0;34m()\u001b[0m\n\u001b[0;32m----> <a href='vscode-notebook-cell://ssh-remote%2B10.1.21.161/home/hsc/python_project/pbpm_based_drift_detection/3.model_train.ipynb#ch0000024vscode-remote?line=0'>1</a>\u001b[0m precision_list,accuracy_list,f1score_list,class_precision_list,class_accuracy_list,class_f1score_list,candidate_points\u001b[39m=\u001b[39mincremental_learning(model)\n",
      "\u001b[1;32m/home/hsc/python_project/pbpm_based_drift_detection/3.model_train.ipynb Cell 23'\u001b[0m in \u001b[0;36mincremental_learning\u001b[0;34m(model)\u001b[0m\n\u001b[1;32m     <a href='vscode-notebook-cell://ssh-remote%2B10.1.21.161/home/hsc/python_project/pbpm_based_drift_detection/3.model_train.ipynb#ch0000022vscode-remote?line=15'>16</a>\u001b[0m tensor_data,tensor_label,tensor_length\u001b[39m=\u001b[39mtensor_transfer(data,label,length)\n\u001b[1;32m     <a href='vscode-notebook-cell://ssh-remote%2B10.1.21.161/home/hsc/python_project/pbpm_based_drift_detection/3.model_train.ipynb#ch0000022vscode-remote?line=16'>17</a>\u001b[0m test_data_loader\u001b[39m=\u001b[39mto_dataloader(tensor_data,tensor_label,tensor_length)\n\u001b[0;32m---> <a href='vscode-notebook-cell://ssh-remote%2B10.1.21.161/home/hsc/python_project/pbpm_based_drift_detection/3.model_train.ipynb#ch0000022vscode-remote?line=17'>18</a>\u001b[0m precision,accuracy,f1score,precision1,accuracy1,f1score1,sizes1,precision2,accuracy2,f1score2,sizes2,a,b,c\u001b[39m=\u001b[39mtest(model,test_data_loader)\n\u001b[1;32m     <a href='vscode-notebook-cell://ssh-remote%2B10.1.21.161/home/hsc/python_project/pbpm_based_drift_detection/3.model_train.ipynb#ch0000022vscode-remote?line=18'>19</a>\u001b[0m precision_list\u001b[39m.\u001b[39mappend(precision)\n\u001b[1;32m     <a href='vscode-notebook-cell://ssh-remote%2B10.1.21.161/home/hsc/python_project/pbpm_based_drift_detection/3.model_train.ipynb#ch0000022vscode-remote?line=19'>20</a>\u001b[0m accuracy_list\u001b[39m.\u001b[39mappend(accuracy)\n",
      "\u001b[1;32m/home/hsc/python_project/pbpm_based_drift_detection/3.model_train.ipynb Cell 22'\u001b[0m in \u001b[0;36mtest\u001b[0;34m(model, test_dataloader)\u001b[0m\n\u001b[1;32m      <a href='vscode-notebook-cell://ssh-remote%2B10.1.21.161/home/hsc/python_project/pbpm_based_drift_detection/3.model_train.ipynb#ch0000021vscode-remote?line=5'>6</a>\u001b[0m model\u001b[39m.\u001b[39meval()\n\u001b[1;32m      <a href='vscode-notebook-cell://ssh-remote%2B10.1.21.161/home/hsc/python_project/pbpm_based_drift_detection/3.model_train.ipynb#ch0000021vscode-remote?line=6'>7</a>\u001b[0m \u001b[39mfor\u001b[39;00m i,(data,label,length) \u001b[39min\u001b[39;00m \u001b[39menumerate\u001b[39m(test_dataloader):\n\u001b[0;32m----> <a href='vscode-notebook-cell://ssh-remote%2B10.1.21.161/home/hsc/python_project/pbpm_based_drift_detection/3.model_train.ipynb#ch0000021vscode-remote?line=7'>8</a>\u001b[0m     output\u001b[39m=\u001b[39mmodel(data[:,:,\u001b[39m1\u001b[39;49m:])\n\u001b[1;32m      <a href='vscode-notebook-cell://ssh-remote%2B10.1.21.161/home/hsc/python_project/pbpm_based_drift_detection/3.model_train.ipynb#ch0000021vscode-remote?line=8'>9</a>\u001b[0m     softmaxoutput\u001b[39m=\u001b[39mnn\u001b[39m.\u001b[39mfunctional\u001b[39m.\u001b[39msoftmax(output,dim\u001b[39m=\u001b[39m\u001b[39m1\u001b[39m)\n\u001b[1;32m     <a href='vscode-notebook-cell://ssh-remote%2B10.1.21.161/home/hsc/python_project/pbpm_based_drift_detection/3.model_train.ipynb#ch0000021vscode-remote?line=9'>10</a>\u001b[0m     predicted\u001b[39m=\u001b[39mtorch\u001b[39m.\u001b[39margmax(softmaxoutput,dim\u001b[39m=\u001b[39m\u001b[39m1\u001b[39m)\n",
      "File \u001b[0;32m~/miniconda3/envs/py3.9/lib/python3.9/site-packages/torch/nn/modules/module.py:1130\u001b[0m, in \u001b[0;36mModule._call_impl\u001b[0;34m(self, *input, **kwargs)\u001b[0m\n\u001b[1;32m   1126\u001b[0m \u001b[39m# If we don't have any hooks, we want to skip the rest of the logic in\u001b[39;00m\n\u001b[1;32m   1127\u001b[0m \u001b[39m# this function, and just call forward.\u001b[39;00m\n\u001b[1;32m   1128\u001b[0m \u001b[39mif\u001b[39;00m \u001b[39mnot\u001b[39;00m (\u001b[39mself\u001b[39m\u001b[39m.\u001b[39m_backward_hooks \u001b[39mor\u001b[39;00m \u001b[39mself\u001b[39m\u001b[39m.\u001b[39m_forward_hooks \u001b[39mor\u001b[39;00m \u001b[39mself\u001b[39m\u001b[39m.\u001b[39m_forward_pre_hooks \u001b[39mor\u001b[39;00m _global_backward_hooks\n\u001b[1;32m   1129\u001b[0m         \u001b[39mor\u001b[39;00m _global_forward_hooks \u001b[39mor\u001b[39;00m _global_forward_pre_hooks):\n\u001b[0;32m-> 1130\u001b[0m     \u001b[39mreturn\u001b[39;00m forward_call(\u001b[39m*\u001b[39;49m\u001b[39minput\u001b[39;49m, \u001b[39m*\u001b[39;49m\u001b[39m*\u001b[39;49mkwargs)\n\u001b[1;32m   1131\u001b[0m \u001b[39m# Do not call functions when jit is used\u001b[39;00m\n\u001b[1;32m   1132\u001b[0m full_backward_hooks, non_full_backward_hooks \u001b[39m=\u001b[39m [], []\n",
      "File \u001b[0;32m~/python_project/pbpm_based_drift_detection/models/baseRNN.py:49\u001b[0m, in \u001b[0;36mBaseRNN.forward\u001b[0;34m(self, data)\u001b[0m\n\u001b[1;32m     47\u001b[0m embedding\u001b[39m=\u001b[39m\u001b[39mself\u001b[39m\u001b[39m.\u001b[39membedding(data[:,:,\u001b[39m0\u001b[39m]\u001b[39m.\u001b[39mlong())\n\u001b[1;32m     48\u001b[0m embedd\u001b[39m=\u001b[39mtorch\u001b[39m.\u001b[39mcat((embedding,data[:,:,\u001b[39m2\u001b[39m:]),dim\u001b[39m=\u001b[39m\u001b[39m-\u001b[39m\u001b[39m1\u001b[39m)\n\u001b[0;32m---> 49\u001b[0m lstmout,hidden\u001b[39m=\u001b[39m\u001b[39mself\u001b[39;49m\u001b[39m.\u001b[39;49mlstm(embedd)\n\u001b[1;32m     50\u001b[0m bn1\u001b[39m=\u001b[39m\u001b[39mself\u001b[39m\u001b[39m.\u001b[39mbn(lstmout\u001b[39m.\u001b[39mcontiguous()\u001b[39m.\u001b[39mview(\u001b[39m-\u001b[39m\u001b[39m1\u001b[39m,lstmout\u001b[39m.\u001b[39mshape[\u001b[39m2\u001b[39m]))\u001b[39m.\u001b[39mview(lstmout\u001b[39m.\u001b[39mshape)\n\u001b[1;32m     51\u001b[0m output\u001b[39m=\u001b[39m\u001b[39mself\u001b[39m\u001b[39m.\u001b[39mdecoder(bn1[:,\u001b[39m-\u001b[39m\u001b[39m1\u001b[39m,:])\n",
      "File \u001b[0;32m~/miniconda3/envs/py3.9/lib/python3.9/site-packages/torch/nn/modules/module.py:1130\u001b[0m, in \u001b[0;36mModule._call_impl\u001b[0;34m(self, *input, **kwargs)\u001b[0m\n\u001b[1;32m   1126\u001b[0m \u001b[39m# If we don't have any hooks, we want to skip the rest of the logic in\u001b[39;00m\n\u001b[1;32m   1127\u001b[0m \u001b[39m# this function, and just call forward.\u001b[39;00m\n\u001b[1;32m   1128\u001b[0m \u001b[39mif\u001b[39;00m \u001b[39mnot\u001b[39;00m (\u001b[39mself\u001b[39m\u001b[39m.\u001b[39m_backward_hooks \u001b[39mor\u001b[39;00m \u001b[39mself\u001b[39m\u001b[39m.\u001b[39m_forward_hooks \u001b[39mor\u001b[39;00m \u001b[39mself\u001b[39m\u001b[39m.\u001b[39m_forward_pre_hooks \u001b[39mor\u001b[39;00m _global_backward_hooks\n\u001b[1;32m   1129\u001b[0m         \u001b[39mor\u001b[39;00m _global_forward_hooks \u001b[39mor\u001b[39;00m _global_forward_pre_hooks):\n\u001b[0;32m-> 1130\u001b[0m     \u001b[39mreturn\u001b[39;00m forward_call(\u001b[39m*\u001b[39;49m\u001b[39minput\u001b[39;49m, \u001b[39m*\u001b[39;49m\u001b[39m*\u001b[39;49mkwargs)\n\u001b[1;32m   1131\u001b[0m \u001b[39m# Do not call functions when jit is used\u001b[39;00m\n\u001b[1;32m   1132\u001b[0m full_backward_hooks, non_full_backward_hooks \u001b[39m=\u001b[39m [], []\n",
      "File \u001b[0;32m~/miniconda3/envs/py3.9/lib/python3.9/site-packages/torch/nn/modules/rnn.py:467\u001b[0m, in \u001b[0;36mRNN.forward\u001b[0;34m(self, input, hx)\u001b[0m\n\u001b[1;32m    464\u001b[0m     hx \u001b[39m=\u001b[39m \u001b[39mself\u001b[39m\u001b[39m.\u001b[39mpermute_hidden(hx, sorted_indices)\n\u001b[1;32m    466\u001b[0m \u001b[39massert\u001b[39;00m hx \u001b[39mis\u001b[39;00m \u001b[39mnot\u001b[39;00m \u001b[39mNone\u001b[39;00m\n\u001b[0;32m--> 467\u001b[0m \u001b[39mself\u001b[39;49m\u001b[39m.\u001b[39;49mcheck_forward_args(\u001b[39minput\u001b[39;49m, hx, batch_sizes)\n\u001b[1;32m    468\u001b[0m \u001b[39massert\u001b[39;00m \u001b[39mself\u001b[39m\u001b[39m.\u001b[39mmode \u001b[39m==\u001b[39m \u001b[39m'\u001b[39m\u001b[39mRNN_TANH\u001b[39m\u001b[39m'\u001b[39m \u001b[39mor\u001b[39;00m \u001b[39mself\u001b[39m\u001b[39m.\u001b[39mmode \u001b[39m==\u001b[39m \u001b[39m'\u001b[39m\u001b[39mRNN_RELU\u001b[39m\u001b[39m'\u001b[39m\n\u001b[1;32m    469\u001b[0m \u001b[39mif\u001b[39;00m batch_sizes \u001b[39mis\u001b[39;00m \u001b[39mNone\u001b[39;00m:\n",
      "File \u001b[0;32m~/miniconda3/envs/py3.9/lib/python3.9/site-packages/torch/nn/modules/rnn.py:229\u001b[0m, in \u001b[0;36mRNNBase.check_forward_args\u001b[0;34m(self, input, hidden, batch_sizes)\u001b[0m\n\u001b[1;32m    228\u001b[0m \u001b[39mdef\u001b[39;00m \u001b[39mcheck_forward_args\u001b[39m(\u001b[39mself\u001b[39m, \u001b[39minput\u001b[39m: Tensor, hidden: Tensor, batch_sizes: Optional[Tensor]):\n\u001b[0;32m--> 229\u001b[0m     \u001b[39mself\u001b[39;49m\u001b[39m.\u001b[39;49mcheck_input(\u001b[39minput\u001b[39;49m, batch_sizes)\n\u001b[1;32m    230\u001b[0m     expected_hidden_size \u001b[39m=\u001b[39m \u001b[39mself\u001b[39m\u001b[39m.\u001b[39mget_expected_hidden_size(\u001b[39minput\u001b[39m, batch_sizes)\n\u001b[1;32m    232\u001b[0m     \u001b[39mself\u001b[39m\u001b[39m.\u001b[39mcheck_hidden_size(hidden, expected_hidden_size)\n",
      "File \u001b[0;32m~/miniconda3/envs/py3.9/lib/python3.9/site-packages/torch/nn/modules/rnn.py:205\u001b[0m, in \u001b[0;36mRNNBase.check_input\u001b[0;34m(self, input, batch_sizes)\u001b[0m\n\u001b[1;32m    201\u001b[0m     \u001b[39mraise\u001b[39;00m \u001b[39mRuntimeError\u001b[39;00m(\n\u001b[1;32m    202\u001b[0m         \u001b[39m'\u001b[39m\u001b[39minput must have \u001b[39m\u001b[39m{}\u001b[39;00m\u001b[39m dimensions, got \u001b[39m\u001b[39m{}\u001b[39;00m\u001b[39m'\u001b[39m\u001b[39m.\u001b[39mformat(\n\u001b[1;32m    203\u001b[0m             expected_input_dim, \u001b[39minput\u001b[39m\u001b[39m.\u001b[39mdim()))\n\u001b[1;32m    204\u001b[0m \u001b[39mif\u001b[39;00m \u001b[39mself\u001b[39m\u001b[39m.\u001b[39minput_size \u001b[39m!=\u001b[39m \u001b[39minput\u001b[39m\u001b[39m.\u001b[39msize(\u001b[39m-\u001b[39m\u001b[39m1\u001b[39m):\n\u001b[0;32m--> 205\u001b[0m     \u001b[39mraise\u001b[39;00m \u001b[39mRuntimeError\u001b[39;00m(\n\u001b[1;32m    206\u001b[0m         \u001b[39m'\u001b[39m\u001b[39minput.size(-1) must be equal to input_size. Expected \u001b[39m\u001b[39m{}\u001b[39;00m\u001b[39m, got \u001b[39m\u001b[39m{}\u001b[39;00m\u001b[39m'\u001b[39m\u001b[39m.\u001b[39mformat(\n\u001b[1;32m    207\u001b[0m             \u001b[39mself\u001b[39m\u001b[39m.\u001b[39minput_size, \u001b[39minput\u001b[39m\u001b[39m.\u001b[39msize(\u001b[39m-\u001b[39m\u001b[39m1\u001b[39m)))\n",
      "\u001b[0;31mRuntimeError\u001b[0m: input.size(-1) must be equal to input_size. Expected 64, got 63"
     ]
    }
   ],
   "source": [
    "precision_list,accuracy_list,f1score_list,class_precision_list,class_accuracy_list,class_f1score_list,candidate_points=incremental_learning(model)\n"
   ]
  },
  {
   "cell_type": "code",
   "execution_count": null,
   "metadata": {},
   "outputs": [],
   "source": [
    "def drift_point_detect(accuracy_list,class_accuracy_list,win_size,threshold):\n",
    "    candidate_points=[]\n",
    "    previous_model=[]\n",
    "    previous_index=[]\n",
    "    recurring_drift=[]\n",
    "    for i in range(len(accuracy_list)-1-win_size):\n",
    "        current=accuracy_list[i]\n",
    "        p1=0\n",
    "        p2=0\n",
    "        for j in range(min(win_size,len(accuracy_list)-i-1)):\n",
    "            p1+=-1*(current-accuracy_list[i+1+j])\n",
    "            if(i+1+j+1>=len(accuracy_list)):\n",
    "                continue\n",
    "            else:\n",
    "                p2+=abs(accuracy_list[i+1+j]-accuracy_list[i+1+j+1])\n",
    "        p1=p1/(min(win_size,len(accuracy_list)-i-1))\n",
    "        if(min(win_size,len(accuracy_list)-i-1)!=1):\n",
    "            p2=p2/(min(win_size,len(accuracy_list)-i-1)-1)\n",
    "        if(p1-threshold*p2>0):\n",
    "            if len(candidate_points)==0:\n",
    "                candidate_points.append(i)\n",
    "            elif(len(candidate_points) and i-candidate_points[-1]>=win_size):\n",
    "                candidate_points.append(i)\n",
    "\n",
    "        # flag=False\n",
    "        # for j in range(len(previous_model)):\n",
    "        #     if(cosine_similarity(class_accuracy_list[i],previous_model[j])>=0.99):\n",
    "        #         if(len(candidate_points)!=0 and i-candidate_points[-1]<=threshold):\n",
    "        #             recurring_drift.append(i)\n",
    "        #         flag=True\n",
    "        #         break\n",
    "        # if not flag:\n",
    "        #     previous_model.append(class_accuracy_list[i])\n",
    "        #     previous_index.append(i)\n",
    "    return candidate_points\n",
    "# cosine_similarity(class_accuracy_list[0],class_accuracy_list[14])\n",
    "candidate_points=drift_point_detect(accuracy_list,class_accuracy_list,4,3)\n",
    "print(candidate_points)"
   ]
  },
  {
   "cell_type": "code",
   "execution_count": null,
   "metadata": {},
   "outputs": [],
   "source": [
    "accuracy_plot_draw(accuracy_list,precision_list,f1score_list,candidate_points,\"PTCOST\"+\",\"+\"window=\"+str(window_size))"
   ]
  },
  {
   "cell_type": "code",
   "execution_count": null,
   "metadata": {},
   "outputs": [],
   "source": [
    "# pickle.dump(precision_list,open(\"datasets\\cm10k\\RNN_precision.pkl\",\"wb\"))\n",
    "# pickle.dump(accuracy_list,open(\"datasets\\cm10k\\RNN_accuracy.pkl\",\"wb\"))\n",
    "# pickle.dump(f1score_list,open(\"datasets\\cm10k\\RNN_f1score.pkl\",\"wb\"))\n"
   ]
  },
  {
   "cell_type": "code",
   "execution_count": null,
   "metadata": {},
   "outputs": [],
   "source": []
  },
  {
   "cell_type": "code",
   "execution_count": 7,
   "metadata": {},
   "outputs": [
    {
     "data": {
      "image/png": "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",
      "text/plain": [
       "<Figure size 640x480 with 1 Axes>"
      ]
     },
     "metadata": {},
     "output_type": "display_data"
    }
   ],
   "source": [
    "lstm_precision=pickle.load(open(os.path.join(\"datasets\",\"cm10k\",\"lstm_precision.pkl\"),\"rb\"))\n",
    "lstm_accuracy=pickle.load(open(os.path.join(\"datasets\",\"cm10k\",\"lstm_accuracy.pkl\"),\"rb\"))\n",
    "lstm_f1score=pickle.load(open(os.path.join(\"datasets\",\"cm10k\",\"lstm_f1score.pkl\"),\"rb\"))\n",
    "GRU_precision=pickle.load(open(os.path.join(\"datasets\",\"cm10k\",\"GRU_precision.pkl\"),\"rb\"))\n",
    "GRU_accuracy=pickle.load(open(os.path.join(\"datasets\",\"cm10k\",\"GRU_accuracy.pkl\"),\"rb\"))\n",
    "GRU_f1score=pickle.load(open(os.path.join(\"datasets\",\"cm10k\",\"GRU_f1score.pkl\"),\"rb\"))\n",
    "RNN_precision=pickle.load(open(os.path.join(\"datasets\",\"cm10k\",\"RNN_precision.pkl\"),\"rb\"))\n",
    "RNN_accuracy=pickle.load(open(os.path.join(\"datasets\",\"cm10k\",\"RNN_accuracy.pkl\"),\"rb\"))\n",
    "RNN_f1score=pickle.load(open(os.path.join(\"datasets\",\"cm10k\",\"RNN_f1score.pkl\"),\"rb\"))\n",
    "Tcn_precision=pickle.load(open(os.path.join(\"datasets\",\"cm10k\",\"Tcn_precision.pkl\"),\"rb\"))\n",
    "Tcn_accuracy=pickle.load(open(os.path.join(\"datasets\",\"cm10k\",\"Tcn_accuracy.pkl\"),\"rb\"))\n",
    "Tcn_f1score=pickle.load(open(os.path.join(\"datasets\",\"cm10k\",\"Tcn_f1score.pkl\"),\"rb\"))\n",
    "def different_model_plot(lstm,tcn,gru,rnn):\n",
    "    xindexs=np.array(list(range(len(lstm))))*100\n",
    "    plt.figure()\n",
    "    plt.plot(xindexs,lstm,label=\"LSTM\")\n",
    "    plt.plot(xindexs,tcn,label=\"TCN\")\n",
    "    plt.plot(xindexs,gru,label=\"GRU\")\n",
    "    plt.plot(xindexs,rnn,label=\"RNN\")\n",
    "    plt.legend()\n",
    "    plt.ylabel(\"Fscore\")\n",
    "    plt.xlabel(\"traces\")\n",
    "    plt.ylim(0.7,1)\n",
    "different_model_plot(lstm_f1score,Tcn_f1score,GRU_f1score,RNN_f1score)"
   ]
  },
  {
   "cell_type": "code",
   "execution_count": null,
   "metadata": {},
   "outputs": [],
   "source": [
    "def draw_class_accuracy_difference(class_accuracy_list):\n",
    "    dif=[euclidean_distance(class_accuracy_list[i],class_accuracy_list[i+1]) for i in range(len(class_accuracy_list)-1)]\n",
    "    plt.figure()\n",
    "    plt.plot(dif)"
   ]
  },
  {
   "cell_type": "code",
   "execution_count": null,
   "metadata": {},
   "outputs": [],
   "source": [
    "euclidean_distance(class_accuracy_list[48],class_accuracy_list[47])"
   ]
  },
  {
   "cell_type": "code",
   "execution_count": null,
   "metadata": {},
   "outputs": [],
   "source": [
    "euclidean_distance(np.mean(class_accuracy_list[41:45]),class_accuracy_list[46])"
   ]
  },
  {
   "cell_type": "code",
   "execution_count": null,
   "metadata": {},
   "outputs": [],
   "source": [
    "draw_class_accuracy_difference(class_accuracy_list)"
   ]
  },
  {
   "cell_type": "code",
   "execution_count": 24,
   "metadata": {},
   "outputs": [],
   "source": [
    "model=BaseLSTM(num_class,act_embsize,hidden_size).cuda()\n",
    "optimizer = getattr(optim, my_optim)(model.parameters(), lr=lr)"
   ]
  },
  {
   "cell_type": "code",
   "execution_count": null,
   "metadata": {},
   "outputs": [],
   "source": [
    "sub_log_path=sub_log_dir+\"/\"+\"sub_logs_\"+str(9)\n",
    "data,label,length=load_data(sub_log_path)"
   ]
  },
  {
   "cell_type": "code",
   "execution_count": null,
   "metadata": {},
   "outputs": [],
   "source": [
    "2+24+7"
   ]
  },
  {
   "cell_type": "code",
   "execution_count": null,
   "metadata": {},
   "outputs": [],
   "source": [
    "np.array(data).shape"
   ]
  },
  {
   "cell_type": "code",
   "execution_count": null,
   "metadata": {},
   "outputs": [],
   "source": [
    "sub_log_path=sub_log_dir+\"/\"+\"sub_logs_\"+str(9)\n",
    "data,label,length=load_data(sub_log_path)\n",
    "tensor_data,tensor_label,tensor_length=tensor_transfer(data,label,length)\n",
    "test_data_loader=to_dataloader(tensor_data,tensor_label,tensor_length)\n",
    "precision,accuracy,f1score,precision1,accuracy1,f1score1,sizes1,precision2,accuracy2,f1score2,sizes2,a,b,c=test(model,test_data_loader)\n",
    "print(accuracy)"
   ]
  },
  {
   "cell_type": "code",
   "execution_count": null,
   "metadata": {},
   "outputs": [],
   "source": [
    "d1=np.array(data)\n",
    "l1=np.array(label)"
   ]
  },
  {
   "cell_type": "code",
   "execution_count": null,
   "metadata": {},
   "outputs": [],
   "source": [
    "d1[l1[:,0]==6][:,:,0].shape"
   ]
  },
  {
   "cell_type": "code",
   "execution_count": null,
   "metadata": {},
   "outputs": [],
   "source": [
    "a1[16]"
   ]
  },
  {
   "cell_type": "code",
   "execution_count": null,
   "metadata": {},
   "outputs": [],
   "source": [
    "a2[16]"
   ]
  },
  {
   "cell_type": "code",
   "execution_count": null,
   "metadata": {},
   "outputs": [],
   "source": [
    "for trace in d1[l1[:,0]==16][:,:,0]:\n",
    "    t=trace\n",
    "    j=0\n",
    "    while(t[j]==0):\n",
    "        j+=1\n",
    "    print(t[j:])"
   ]
  },
  {
   "cell_type": "code",
   "execution_count": null,
   "metadata": {},
   "outputs": [],
   "source": [
    "for trace in d2[l2[:,0]==16][:,:,0]:\n",
    "    t=trace\n",
    "    j=0\n",
    "    while(t[j]==0):\n",
    "        j+=1\n",
    "    print(t[j:])"
   ]
  },
  {
   "cell_type": "code",
   "execution_count": null,
   "metadata": {},
   "outputs": [],
   "source": [
    "p1=precision1\n",
    "a1=accuracy1\n",
    "f1=f1score1"
   ]
  },
  {
   "cell_type": "code",
   "execution_count": null,
   "metadata": {},
   "outputs": [],
   "source": [
    "sub_log_path=sub_log_dir+\"/\"+\"sub_logs_\"+str(5)\n",
    "data,label,length=load_data(sub_log_path)\n",
    "tensor_data,tensor_label,tensor_length=tensor_transfer(data,label,length)\n",
    "test_data_loader=to_dataloader(tensor_data,tensor_label,tensor_length)\n",
    "precision,accuracy,f1score,precision1,accuracy1,f1score1,sizes1,precision2,accuracy2,f1score2,sizes2,a,b,c=test(model,test_data_loader)\n",
    "print(accuracy)"
   ]
  },
  {
   "cell_type": "code",
   "execution_count": null,
   "metadata": {},
   "outputs": [],
   "source": [
    "p2=precision1\n",
    "a2=accuracy1\n",
    "f2=f1score1"
   ]
  },
  {
   "cell_type": "code",
   "execution_count": null,
   "metadata": {},
   "outputs": [],
   "source": [
    "d2=np.array(data)\n",
    "l2=np.array(label)"
   ]
  },
  {
   "cell_type": "code",
   "execution_count": null,
   "metadata": {},
   "outputs": [],
   "source": [
    "a2"
   ]
  },
  {
   "cell_type": "code",
   "execution_count": null,
   "metadata": {},
   "outputs": [],
   "source": [
    "f2"
   ]
  },
  {
   "cell_type": "code",
   "execution_count": null,
   "metadata": {},
   "outputs": [],
   "source": [
    "type(l2)"
   ]
  },
  {
   "cell_type": "code",
   "execution_count": 29,
   "metadata": {},
   "outputs": [
    {
     "name": "stdout",
     "output_type": "stream",
     "text": [
      "0.920523138832998\n"
     ]
    }
   ],
   "source": [
    "sub_log_path=sub_log_dir+\"/\"+\"sub_logs_\"+str(5)\n",
    "data,label,length=load_data(sub_log_path)\n",
    "tensor_data,tensor_label,tensor_length=tensor_transfer(data,label,length)\n",
    "test_data_loader=to_dataloader(tensor_data,tensor_label,tensor_length)\n",
    "precision,accuracy,f1score,precision1,accuracy1,f1score1,sizes1,precision2,accuracy2,f1score2,sizes2,a,b,c=test(model,test_data_loader)\n",
    "print(accuracy)"
   ]
  },
  {
   "cell_type": "code",
   "execution_count": 26,
   "metadata": {},
   "outputs": [],
   "source": [
    "train(model,optimizer,test_data_loader,20)"
   ]
  },
  {
   "cell_type": "code",
   "execution_count": 27,
   "metadata": {},
   "outputs": [],
   "source": [
    "model1=BaseLSTM(num_class,act_embsize,hidden_size).cuda()\n",
    "optimizer1 = getattr(optim, my_optim)(model1.parameters(), lr=lr)"
   ]
  },
  {
   "cell_type": "code",
   "execution_count": 33,
   "metadata": {},
   "outputs": [
    {
     "name": "stdout",
     "output_type": "stream",
     "text": [
      "0.9192488262910798\n"
     ]
    }
   ],
   "source": [
    "sub_log_path=sub_log_dir+\"/\"+\"sub_logs_\"+str(25)\n",
    "data,label,length=load_data(sub_log_path)\n",
    "tensor_data,tensor_label,tensor_length=tensor_transfer(data,label,length)\n",
    "test_data_loader=to_dataloader(tensor_data,tensor_label,tensor_length)\n",
    "precision,accuracy,f1score,precision1,accuracy1,f1score1,sizes1,precision2,accuracy2,f1score2,sizes2,a,b,c=test(model1,test_data_loader)\n",
    "print(accuracy)"
   ]
  },
  {
   "cell_type": "code",
   "execution_count": 32,
   "metadata": {},
   "outputs": [],
   "source": [
    "train(model1,optimizer1,test_data_loader,20)"
   ]
  },
  {
   "cell_type": "code",
   "execution_count": null,
   "metadata": {},
   "outputs": [],
   "source": [
    "len(a)"
   ]
  },
  {
   "cell_type": "code",
   "execution_count": 34,
   "metadata": {},
   "outputs": [],
   "source": [
    "def gradual_test(model,start_index,end_index):\n",
    "    predicted_arr=np.array([])\n",
    "    truth_arr=np.array([])\n",
    "    id_arr=np.array([])\n",
    "    for i in range(start_index,end_index):\n",
    "        sub_log_path=sub_log_dir+\"/\"+\"sub_logs_\"+str(i)\n",
    "        data,label,length=load_data(sub_log_path)\n",
    "        tensor_data,tensor_label,tensor_length=tensor_transfer(data,label,length)\n",
    "        test_data_loader=to_dataloader(tensor_data,tensor_label,tensor_length)\n",
    "        precision,accuracy,f1score,precision1,accuracy1,f1score1,sizes1,precision2,accuracy2,f1score2,sizes2,predicted_list,truth_list,id_list=test(model,test_data_loader)\n",
    "        predicted_arr=np.append(predicted_arr,predicted_list)\n",
    "        truth_arr=np.append(truth_arr,truth_list)\n",
    "        id_arr=np.append(id_arr,id_list)\n",
    "    indexs=np.array(range(len(predicted_arr)))\n",
    "    true_indexs=indexs[predicted_arr==truth_arr]\n",
    "    false_indexs=indexs[predicted_arr!=truth_arr]\n",
    "    return true_indexs,false_indexs,id_arr"
   ]
  },
  {
   "cell_type": "code",
   "execution_count": 63,
   "metadata": {},
   "outputs": [],
   "source": [
    "t1,f1,id1=gradual_test(model,10,20)"
   ]
  },
  {
   "cell_type": "code",
   "execution_count": 64,
   "metadata": {},
   "outputs": [],
   "source": [
    "t2,f2,id2=gradual_test(model1,10,20)"
   ]
  },
  {
   "cell_type": "code",
   "execution_count": null,
   "metadata": {},
   "outputs": [],
   "source": [
    "new_index[math.ceil(id1[f1[0]])-1000]"
   ]
  },
  {
   "cell_type": "code",
   "execution_count": 45,
   "metadata": {},
   "outputs": [],
   "source": [
    "def belonging_query(indexs,ids,id2index):\n",
    "    model1=[]\n",
    "    model2=[]\n",
    "    for index in indexs:\n",
    "        id=math.ceil(ids[index])-1000\n",
    "        old_index=id2index[id]\n",
    "        if(old_index>=1499):\n",
    "            model2.append(index)\n",
    "        else:\n",
    "            model1.append(index)\n",
    "    return model1,model2"
   ]
  },
  {
   "cell_type": "code",
   "execution_count": 51,
   "metadata": {},
   "outputs": [],
   "source": [
    "m1,m2=belonging_query(t1,id1,new_index)"
   ]
  },
  {
   "cell_type": "code",
   "execution_count": 58,
   "metadata": {},
   "outputs": [],
   "source": [
    "m1,m2=belonging_query(f1,id1,new_index)"
   ]
  },
  {
   "cell_type": "code",
   "execution_count": 59,
   "metadata": {},
   "outputs": [],
   "source": [
    "m3,m4=belonging_query(f2,id2,new_index)"
   ]
  },
  {
   "cell_type": "code",
   "execution_count": 54,
   "metadata": {},
   "outputs": [
    {
     "data": {
      "text/plain": [
       "0.798144309544961"
      ]
     },
     "execution_count": 54,
     "metadata": {},
     "output_type": "execute_result"
    }
   ],
   "source": [
    "len(t1)/(len(f1)+len(t1))"
   ]
  },
  {
   "cell_type": "code",
   "execution_count": 55,
   "metadata": {},
   "outputs": [
    {
     "data": {
      "text/plain": [
       "0.8473003652156746"
      ]
     },
     "execution_count": 55,
     "metadata": {},
     "output_type": "execute_result"
    }
   ],
   "source": [
    "len(t2)/(len(t2)+len(f2))"
   ]
  },
  {
   "cell_type": "code",
   "execution_count": null,
   "metadata": {},
   "outputs": [],
   "source": [
    "len(m1)"
   ]
  },
  {
   "cell_type": "code",
   "execution_count": null,
   "metadata": {},
   "outputs": [],
   "source": [
    "len(m2)"
   ]
  },
  {
   "cell_type": "code",
   "execution_count": 61,
   "metadata": {},
   "outputs": [
    {
     "data": {
      "text/plain": [
       "0.7141809290953546"
      ]
     },
     "execution_count": 61,
     "metadata": {},
     "output_type": "execute_result"
    }
   ],
   "source": [
    "len(m1)/(len(m1)+len(m2))"
   ]
  },
  {
   "cell_type": "code",
   "execution_count": 62,
   "metadata": {},
   "outputs": [
    {
     "data": {
      "text/plain": [
       "0.6202327084680026"
      ]
     },
     "execution_count": 62,
     "metadata": {},
     "output_type": "execute_result"
    }
   ],
   "source": [
    "len(m4)/(len(m3)+len(m4))"
   ]
  },
  {
   "cell_type": "code",
   "execution_count": null,
   "metadata": {},
   "outputs": [],
   "source": [
    "len(m2)"
   ]
  },
  {
   "cell_type": "code",
   "execution_count": null,
   "metadata": {},
   "outputs": [],
   "source": [
    "new_index[0]"
   ]
  },
  {
   "cell_type": "code",
   "execution_count": null,
   "metadata": {},
   "outputs": [],
   "source": [
    "t1"
   ]
  },
  {
   "cell_type": "code",
   "execution_count": null,
   "metadata": {},
   "outputs": [],
   "source": [
    "f1"
   ]
  },
  {
   "cell_type": "code",
   "execution_count": null,
   "metadata": {},
   "outputs": [],
   "source": [
    "t1"
   ]
  },
  {
   "cell_type": "code",
   "execution_count": null,
   "metadata": {},
   "outputs": [],
   "source": [
    "id1"
   ]
  },
  {
   "cell_type": "code",
   "execution_count": null,
   "metadata": {},
   "outputs": [],
   "source": [
    "len(t1)+len(f1)==len(id1)"
   ]
  },
  {
   "cell_type": "code",
   "execution_count": null,
   "metadata": {},
   "outputs": [],
   "source": [
    "old_index=np.array(range(1000,2000))"
   ]
  },
  {
   "cell_type": "code",
   "execution_count": 41,
   "metadata": {},
   "outputs": [],
   "source": [
    "bindex=[27,33,37,42,48,52,58,63,67,73]\n",
    "aindex=[100-i for i in bindex]\n",
    "def linear_cat():\n",
    "    l1=list(range(500))\n",
    "    l2=list(range(500,1000))\n",
    "    new_index=[]\n",
    "    suma=0\n",
    "    sumb=0\n",
    "    for i in range(len(aindex)):\n",
    "        anum=aindex[i]\n",
    "        bnum=bindex[i]\n",
    "        new_index=new_index+l1[suma:suma+anum]\n",
    "        new_index=new_index+l2[sumb:sumb+bnum]\n",
    "        suma+=anum\n",
    "        sumb+=bnum\n",
    "    return new_index\n",
    "new_index=linear_cat()"
   ]
  },
  {
   "cell_type": "code",
   "execution_count": 43,
   "metadata": {},
   "outputs": [
    {
     "data": {
      "text/plain": [
       "1000"
      ]
     },
     "execution_count": 43,
     "metadata": {},
     "output_type": "execute_result"
    }
   ],
   "source": [
    "len(new_index)"
   ]
  },
  {
   "cell_type": "code",
   "execution_count": 44,
   "metadata": {},
   "outputs": [],
   "source": [
    "new_index=np.array(new_index)+1000"
   ]
  },
  {
   "cell_type": "code",
   "execution_count": null,
   "metadata": {},
   "outputs": [],
   "source": [
    "np.array(data).shape"
   ]
  },
  {
   "cell_type": "code",
   "execution_count": null,
   "metadata": {},
   "outputs": [],
   "source": [
    "len(id1)"
   ]
  },
  {
   "cell_type": "code",
   "execution_count": null,
   "metadata": {},
   "outputs": [],
   "source": [
    "len(t1)/(len(t1)+len(f1))"
   ]
  },
  {
   "cell_type": "code",
   "execution_count": null,
   "metadata": {},
   "outputs": [],
   "source": [
    "len(t2)/(len(t2)+len(f2))"
   ]
  },
  {
   "cell_type": "code",
   "execution_count": null,
   "metadata": {},
   "outputs": [],
   "source": [
    "len(set(f1)-set(f2))"
   ]
  },
  {
   "cell_type": "code",
   "execution_count": 56,
   "metadata": {},
   "outputs": [
    {
     "data": {
      "text/plain": [
       "0.8506112469437653"
      ]
     },
     "execution_count": 56,
     "metadata": {},
     "output_type": "execute_result"
    }
   ],
   "source": [
    "len(set(t2)&set(f1))/len(f1)"
   ]
  },
  {
   "cell_type": "code",
   "execution_count": null,
   "metadata": {},
   "outputs": [],
   "source": [
    "len(f1)"
   ]
  },
  {
   "cell_type": "code",
   "execution_count": 57,
   "metadata": {},
   "outputs": [
    {
     "data": {
      "text/plain": [
       "0.8025210084033614"
      ]
     },
     "execution_count": 57,
     "metadata": {},
     "output_type": "execute_result"
    }
   ],
   "source": [
    "len(set(t1)&set(f2))/(len(f2))"
   ]
  },
  {
   "cell_type": "code",
   "execution_count": null,
   "metadata": {},
   "outputs": [],
   "source": [
    "len(set(f2))"
   ]
  },
  {
   "cell_type": "code",
   "execution_count": null,
   "metadata": {},
   "outputs": [],
   "source": [
    "len(set(t1)&set(t2))"
   ]
  },
  {
   "cell_type": "code",
   "execution_count": null,
   "metadata": {},
   "outputs": [],
   "source": [
    "len((set(t1)-set(t2))&set(f2))/len(f2)"
   ]
  },
  {
   "cell_type": "code",
   "execution_count": null,
   "metadata": {},
   "outputs": [],
   "source": [
    "len(set(t2)-set(t1))"
   ]
  },
  {
   "cell_type": "code",
   "execution_count": null,
   "metadat